{
 "cells": [
  {
   "cell_type": "markdown",
   "id": "5c225cd2",
   "metadata": {},
   "source": [
    "### **Problem Statement**\n",
    "Belum memiliki strategi yang tepat untuk menawarkan jenis produk yang sesuai dengan segmen calon nasabah yang akan direkrut."
   ]
  },
  {
   "cell_type": "markdown",
   "id": "fd2db3d9",
   "metadata": {},
   "source": [
    "### **Objective**\n",
    "Membuat sebuah model clustering untuk mengetahui kepemilikan produk berdasarkan demografi nasabah yang saat ini sudah menggunakan layanan FundFusion dengan silhouette score >0.7"
   ]
  },
  {
   "cell_type": "markdown",
   "id": "9fb11a8b",
   "metadata": {},
   "source": [
    "### **Variable Yang Tersedia**\n",
    "Dari dataset yang dimiliki terdapat beberapa data yang tersedia:\n",
    "\n",
    "1. GCIF: Unique Identifier Nasabah\n",
    "2. Area: Lokasi Nasabah (Jakarta, Bogor, Bandung, Surabaya, Jogja, Solo)\n",
    "3. Jalur_Pembukaan: Touch Points Nasabah Membuka produk (Cabanng, Telemarketing, Aplikasi Digital, Internet Banking)\n",
    "4. Vintage: Durasi menjadi nasabah (Sejak membuka akun)\n",
    "5. Usia: Usia nasabah\n",
    "6. Jenis_kelamin: Laki-laki(1) & Perempuan (1)\n",
    "7. Status_Perkawinan : Belum menikah(0), Menikah(1), Cerai(2), Janda/Duda(3)\n",
    "8. Jumlah_Anak : Jumlah Anak Nasabah (Numerik)\n",
    "9. Pendidikan : Status Pendidikan Terakhir (Tidak Memiliki pendidikan formal[0], SD[1], SMP[2], SMA[3], Sarjana[4], Magister[5], Doktor[6])\n",
    "10. Produk_Tabungan: Status Kepemilikan Produk(Yes/1, No/0)\n",
    "11. Produk_Deposito :Status kepemilikan Produk(Yes/1, No/0)\n",
    "12. Produk_Kartu_Kredit :Status kepemilikan Produk(Yes/1, No/0)\n",
    "13. Produk_Kredit_Rumah :Status kepemilikan Produk(Yes/1, No/0)\n",
    "14. Produk_Kredit_Kendaraan :Status kepemilikan Produk(Yes/1, No/0)\n",
    "15. Produk_Kredit_Dana_Tunai :Status kepemilikan Produk(Yes/1, No/0)\n",
    "16. Total_Kepemilikan_Produk : Jumlah Produk yang dimiliki(Penjumlahan dari produk-produk)\n",
    "17. Pendapatan_Tahunan : Rata-rata pendapatan dalam setahun\n",
    "18. Total_Relationship_balance : Total Asset nasabah dalan cutoff bulan observasi"
   ]
  },
  {
   "cell_type": "markdown",
   "id": "b6bad72b",
   "metadata": {},
   "source": [
    "### **Experiment**\n",
    "Point Of View:\n",
    "1. Dikelompokkan berdasarkan demografis untuk dicari pattern kepemilikan produk\n",
    "2. Dikelompokkan berdasarkan kepemilikan produk untuk dicari pattern berdasarkan demografisnya"
   ]
  },
  {
   "cell_type": "markdown",
   "id": "6c7df6e8",
   "metadata": {},
   "source": [
    "### **Import Package**"
   ]
  },
  {
   "cell_type": "code",
   "execution_count": null,
   "id": "00baee93",
   "metadata": {},
   "outputs": [],
   "source": [
    "import pandas as pd\n",
    "import numpy as np\n",
    "import matplotlib.pyplot as plt\n",
    "import seaborn as sns\n",
    "import time\n",
    "pd.set_option('display.max_columns', None)"
   ]
  },
  {
   "cell_type": "markdown",
   "id": "40db02ce",
   "metadata": {},
   "source": [
    "### **Data For Clustering**"
   ]
  },
  {
   "cell_type": "code",
   "execution_count": null,
   "id": "48220977",
   "metadata": {},
   "outputs": [],
   "source": [
    "path_1 = (\"clustering_data.csv\")\n",
    "data = pd.read_csv(path_1)\n",
    "data.dtypes"
   ]
  },
  {
   "cell_type": "markdown",
   "id": "907b9c7a",
   "metadata": {},
   "source": [
    "### **Data Understanding**"
   ]
  },
  {
   "cell_type": "code",
   "execution_count": null,
   "id": "55d1927f",
   "metadata": {},
   "outputs": [],
   "source": [
    "data.groupby(('Area'))['Area'].count()"
   ]
  },
  {
   "cell_type": "code",
   "execution_count": null,
   "id": "10e163b8",
   "metadata": {},
   "outputs": [],
   "source": [
    "# Select only numeric columns for aggregation\n",
    "numeric_cols = data.select_dtypes(include=[np.number]).columns\n",
    "data.groupby('Area')[numeric_cols].mean()"
   ]
  },
  {
   "cell_type": "code",
   "execution_count": null,
   "id": "b4262584",
   "metadata": {},
   "outputs": [],
   "source": [
    "data.groupby(('Vintage'))['Vintage'].count()"
   ]
  },
  {
   "cell_type": "code",
   "execution_count": null,
   "id": "2e063758",
   "metadata": {},
   "outputs": [],
   "source": [
    "data.groupby('Vintage')[numeric_cols].mean()"
   ]
  },
  {
   "cell_type": "code",
   "execution_count": null,
   "id": "c23b65a0",
   "metadata": {},
   "outputs": [],
   "source": [
    "data.groupby('Jalur_Pembukaan')['Jalur_Pembukaan'].count()"
   ]
  },
  {
   "cell_type": "code",
   "execution_count": null,
   "id": "9a15b542",
   "metadata": {},
   "outputs": [],
   "source": [
    "data.groupby('Jalur_Pembukaan')[numeric_cols].mean()"
   ]
  },
  {
   "cell_type": "code",
   "execution_count": null,
   "id": "b4e7b5f0",
   "metadata": {},
   "outputs": [],
   "source": [
    "data.groupby(('Status_Perkawinan'))['Status_Perkawinan'].count()\n"
   ]
  },
  {
   "cell_type": "code",
   "execution_count": null,
   "id": "5e10a0a1",
   "metadata": {},
   "outputs": [],
   "source": [
    "data.groupby('Status_Perkawinan')[numeric_cols].mean()"
   ]
  },
  {
   "cell_type": "markdown",
   "id": "66e3e350",
   "metadata": {},
   "source": [
    "### **Data Preparation**\n",
    "Pengecekan data duplikat dan Missing data"
   ]
  },
  {
   "cell_type": "code",
   "execution_count": null,
   "id": "0025d196",
   "metadata": {},
   "outputs": [],
   "source": [
    "data.isnull().sum()"
   ]
  },
  {
   "cell_type": "code",
   "execution_count": null,
   "id": "a142e04c",
   "metadata": {},
   "outputs": [],
   "source": [
    "data = data.dropna()"
   ]
  },
  {
   "cell_type": "code",
   "execution_count": null,
   "id": "4261a790",
   "metadata": {},
   "outputs": [],
   "source": [
    "data.isnull().sum()"
   ]
  },
  {
   "cell_type": "code",
   "execution_count": null,
   "id": "1eb74ba1",
   "metadata": {},
   "outputs": [],
   "source": [
    "data.duplicated().sum()"
   ]
  },
  {
   "cell_type": "markdown",
   "id": "2cc4adee",
   "metadata": {},
   "source": [
    "### Pengecekan Data Outlier"
   ]
  },
  {
   "cell_type": "code",
   "execution_count": null,
   "id": "8754d926",
   "metadata": {},
   "outputs": [],
   "source": [
    "data.count()"
   ]
  },
  {
   "cell_type": "code",
   "execution_count": null,
   "id": "03d04357",
   "metadata": {},
   "outputs": [],
   "source": [
    "%pip install scipy\n",
    "\n",
    "from scipy import stats\n",
    "z_scores = stats.zscore(data[['Usia', 'Pendapatan_Tahunan', 'Total_Relationship_Balance']])\n",
    "data = data[(z_scores < 3).all(axis=1)]"
   ]
  },
  {
   "cell_type": "code",
   "execution_count": null,
   "id": "20d72a2c",
   "metadata": {},
   "outputs": [],
   "source": [
    "data.count()"
   ]
  },
  {
   "cell_type": "markdown",
   "id": "a2eb4041",
   "metadata": {},
   "source": [
    "### Filtering Data Telemarketing Only"
   ]
  },
  {
   "cell_type": "code",
   "execution_count": null,
   "id": "6c0eedb9",
   "metadata": {},
   "outputs": [],
   "source": [
    "data0 = data[data['Jalur_Pembukaan'] == 'Telemarketing']\n",
    "data0"
   ]
  },
  {
   "cell_type": "code",
   "execution_count": null,
   "id": "0a305529",
   "metadata": {},
   "outputs": [],
   "source": [
    "data0 = data0.drop(columns=['GCIF', 'Jalur_Pembukaan']).reset_index(drop=True)"
   ]
  },
  {
   "cell_type": "code",
   "execution_count": null,
   "id": "3babbeb6",
   "metadata": {},
   "outputs": [],
   "source": [
    "data0 = data0.reset_index()\n",
    "data0"
   ]
  },
  {
   "cell_type": "markdown",
   "id": "e53242ea",
   "metadata": {},
   "source": [
    "### **Pembagian Dataset Experiment**\n",
    "1. Experiment 0 = Semua Variable Digunakan\n",
    "2. Experiment 1 = Menggunakan Demographics\n",
    "3. Experiment 2 = Menggunakan Financial Related Variable"
   ]
  },
  {
   "cell_type": "code",
   "execution_count": null,
   "id": "90495c4d",
   "metadata": {},
   "outputs": [],
   "source": [
    "data1 = data0.iloc[:, 1:8]\n",
    "data1"
   ]
  },
  {
   "cell_type": "code",
   "execution_count": null,
   "id": "1a1d5657",
   "metadata": {},
   "outputs": [],
   "source": [
    "data2 = data0.iloc[:, 8:17]\n",
    "data2"
   ]
  },
  {
   "cell_type": "markdown",
   "id": "8d0d78d0",
   "metadata": {},
   "source": [
    "### **Melakukan Encoding Untuk Data Category**"
   ]
  },
  {
   "cell_type": "code",
   "execution_count": null,
   "id": "11b998d8",
   "metadata": {},
   "outputs": [],
   "source": [
    "data1 = pd.get_dummies(data1, columns = ['Area', 'Jenis_Kelamin', 'Status_Perkawinan', 'Pendidikan', 'Vintage'])\n",
    "data1"
   ]
  },
  {
   "cell_type": "markdown",
   "id": "01acc80c",
   "metadata": {},
   "source": [
    "### **Standarisasi Data Numerik**"
   ]
  },
  {
   "cell_type": "code",
   "execution_count": null,
   "id": "f42320f7",
   "metadata": {},
   "outputs": [],
   "source": [
    "predname_num = data2.columns\n",
    "predname_num"
   ]
  },
  {
   "cell_type": "code",
   "execution_count": null,
   "id": "3b397ed0",
   "metadata": {},
   "outputs": [],
   "source": [
    "from sklearn.preprocessing import StandardScaler\n",
    "pt = StandardScaler()\n",
    "X_num = pd.DataFrame(pt.fit_transform(data2))\n",
    "X_num.head()"
   ]
  },
  {
   "cell_type": "code",
   "execution_count": null,
   "id": "91034d6e",
   "metadata": {},
   "outputs": [],
   "source": [
    "X_num.columns = predname_num\n",
    "X_num.head()"
   ]
  },
  {
   "cell_type": "markdown",
   "id": "d84787ea",
   "metadata": {},
   "source": [
    "### **Pengecekan Korelasi**"
   ]
  },
  {
   "cell_type": "code",
   "execution_count": null,
   "id": "0fd5818c",
   "metadata": {},
   "outputs": [],
   "source": [
    "corrtest1 = data1.corr().abs()\n",
    "corrtest2 = X_num.corr().abs()"
   ]
  },
  {
   "cell_type": "code",
   "execution_count": null,
   "id": "41e4a3f9",
   "metadata": {},
   "outputs": [],
   "source": [
    "upper = corrtest1.where(np.triu(np.ones(corrtest1.shape), k=1).astype(bool))\n",
    "upper1 = corrtest2.where(np.triu(np.ones(corrtest2.shape), k=1).astype(bool))\n",
    "\n",
    "to_drop = [column for column in upper.columns if any(upper[column] > 0.7)]\n",
    "to_drop1 = [column for column in upper1.columns if any(upper1[column] > 0.7)]\n",
    "\n",
    "data1 = data1.drop(to_drop, axis=1)\n",
    "data2 = data2.drop(to_drop1, axis=1)"
   ]
  },
  {
   "cell_type": "code",
   "execution_count": null,
   "id": "3ee38ef8",
   "metadata": {},
   "outputs": [],
   "source": [
    "data1"
   ]
  },
  {
   "cell_type": "code",
   "execution_count": null,
   "id": "fdf306fa",
   "metadata": {},
   "outputs": [],
   "source": [
    "X_num"
   ]
  },
  {
   "cell_type": "code",
   "execution_count": null,
   "id": "30b56c5f",
   "metadata": {},
   "outputs": [],
   "source": [
    "# Menggabungkan keduanya\n",
    "data_combined = pd.concat([data1, X_num], axis=1, join='inner')\n",
    "data_combined"
   ]
  },
  {
   "cell_type": "markdown",
   "id": "64f74aea",
   "metadata": {},
   "source": [
    "### **Modeling & Evaluation**\n",
    "Pembangunan model akan menggunakan 2 algoritma:\n",
    "1. K-Means\n",
    "2. K-Medoid\n",
    "dengan pengecekan silhoutte score\n"
   ]
  },
  {
   "cell_type": "markdown",
   "id": "ebea38e3",
   "metadata": {},
   "source": [
    "### **K-Means**"
   ]
  },
  {
   "cell_type": "code",
   "execution_count": null,
   "id": "8083d49a",
   "metadata": {},
   "outputs": [],
   "source": [
    "from sklearn.cluster import KMeans\n",
    "from sklearn.metrics import silhouette_score\n",
    "import matplotlib.pyplot as plt\n",
    "import seaborn as sns"
   ]
  },
  {
   "cell_type": "code",
   "execution_count": null,
   "id": "7a5d0686",
   "metadata": {},
   "outputs": [],
   "source": [
    "# Experiment 0\n",
    "for n_clusters in range(3, 6):\n",
    "    kmeans = KMeans(n_clusters=n_clusters, random_state=0)\n",
    "    cluster_labels =kmeans.fit_predict(data_combined)\n",
    "    silhouette_avg = silhouette_score(data_combined, cluster_labels)\n",
    "    print(f\"silhouette score (K-Means) - \" +str(n_clusters)+\":\"+str(silhouette_avg))\n",
    "    data0['Clustering_KMeans_Exp0_' + str(n_clusters)] = cluster_labels"
   ]
  },
  {
   "cell_type": "code",
   "execution_count": null,
   "id": "f2e22a79",
   "metadata": {},
   "outputs": [],
   "source": [
    "# Experiment 1\n",
    "for n_clusters in range(3,6):\n",
    "    kmeans = KMeans(n_clusters= n_clusters, random_state=0)\n",
    "    cluster_labels = kmeans.fit_predict(data1)\n",
    "    silhouette_avg = silhouette_score(data1, cluster_labels)\n",
    "    print(f\"silhouette Score (K-Means) - \" +str(n_clusters)+\":\"+str(silhouette_avg))\n",
    "    data0['Clustering_KMeans_Exp1_'+str(n_clusters)] = cluster_labels"
   ]
  },
  {
   "cell_type": "code",
   "execution_count": null,
   "id": "a1f764e3",
   "metadata": {},
   "outputs": [],
   "source": [
    "#  Experiment 2\n",
    "for n_clusters in range(3,6):\n",
    "    kmeans = KMeans(n_clusters = n_clusters, random_state=0)\n",
    "    cluster_labels = kmeans.fit_predict(X_num)\n",
    "    silhouette_avg = silhouette_score(X_num, cluster_labels)\n",
    "    print(f\"silhouette score (K_means) -\" +str(n_clusters)+\":\"+str(silhouette_avg))\n",
    "    data0['Clustering_KMeans_Exp2_'+ str(n_clusters)] = cluster_labels"
   ]
  },
  {
   "cell_type": "code",
   "execution_count": null,
   "id": "71dad89d",
   "metadata": {},
   "outputs": [],
   "source": [
    "pip install numpy==1.26.4 scikit-learn==1.5.0 scikit-learn-extra==0.3.0\n"
   ]
  },
  {
   "cell_type": "code",
   "execution_count": null,
   "id": "5a357fc5",
   "metadata": {},
   "outputs": [],
   "source": [
    "from sklearn_extra.cluster import KMedoids\n"
   ]
  },
  {
   "cell_type": "code",
   "execution_count": null,
   "id": "2072a3e9",
   "metadata": {},
   "outputs": [],
   "source": [
    "# Experiment 0\n",
    "for n_clusters in range(3, 6):\n",
    "    kmedoids = KMedoids(n_clusters=n_clusters, random_state=0)\n",
    "    cluster_labels = kmedoids.fit_predict(data_combined)\n",
    "    silhouette_avg = silhouette_score(data_combined, cluster_labels)\n",
    "    print(f\"silhouette score (K-Medoids) - \" +str(n_clusters)+\":\"+str(silhouette_avg))\n",
    "    data0['Clustering_KMedoids_Exp0_' + str(n_clusters)] = cluster_labels"
   ]
  },
  {
   "cell_type": "code",
   "execution_count": null,
   "id": "7381224e",
   "metadata": {},
   "outputs": [],
   "source": [
    "# Experiment 1\n",
    "for n_clusters in range(3,6):\n",
    "    kmedoids = KMedoids(n_clusters=n_clusters, random_state=0)\n",
    "    cluster_labels = kmedoids.fit_predict(data1)\n",
    "    silhouette_avg = silhouette_score(data1, cluster_labels)\n",
    "    print(f\"silhouette score (K-Medoids) - \" +str(n_clusters)+\":\"+str(silhouette_avg))\n",
    "    data0['Clustering_KMedoids_Exp1_' + str(n_clusters)] = cluster_labels"
   ]
  },
  {
   "cell_type": "code",
   "execution_count": null,
   "id": "a0d9ee97",
   "metadata": {},
   "outputs": [],
   "source": [
    "# Experiment 2\n",
    "for n_clusters in range(3,6):\n",
    "    kmedoids = KMedoids(n_clusters=n_clusters, random_state=0)\n",
    "    cluster_labels = kmedoids.fit_predict(X_num)\n",
    "    silhouette_avg = silhouette_score(X_num, cluster_labels)\n",
    "    print(f\"silhouette score (K-Medoids) - \" +str(n_clusters)+\":\"+str(silhouette_avg))\n",
    "    data0['Clustering_KMedoids_Exp2_' + str(n_clusters)] = cluster_labels"
   ]
  },
  {
   "cell_type": "markdown",
   "id": "95eefaf2",
   "metadata": {},
   "source": [
    "### **Analisa Hasil**"
   ]
  },
  {
   "cell_type": "code",
   "execution_count": null,
   "id": "599b9a4c",
   "metadata": {},
   "outputs": [],
   "source": [
    "sns.scatterplot(data=data0, x='Usia', y='Total_Kepemilikan_Produk', hue='Clustering_KMeans_Exp1_3', palette='Set1')\n",
    "plt.title('Scatter Plot Hasil Clustering')\n",
    "plt.show()"
   ]
  },
  {
   "cell_type": "code",
   "execution_count": null,
   "id": "88bdd15e",
   "metadata": {},
   "outputs": [],
   "source": [
    "sns.scatterplot(data=data0, x='Total_Relationship_Balance', y='Total_Kepemilikan_Produk', hue='Clustering_KMeans_Exp1_3', palette='Set1')\n",
    "plt.title('Scatter Plot Hasil Clustering')\n",
    "plt.show()"
   ]
  },
  {
   "cell_type": "code",
   "execution_count": null,
   "id": "9f106fdb",
   "metadata": {},
   "outputs": [],
   "source": [
    "cluster_means = data0[['Usia','Jumlah_Anak','Produk_Tabungan','Produk_Deposito','Produk_Kartu_Kredit','Produk_Kredit_Rumah','Produk_Kredit_Kendaraan','Produk_Kredit_Dana_Tunai','Total_Kepemilikan_Produk','Total_Relationship_Balance','Clustering_KMeans_Exp1_3']].groupby('Clustering_KMeans_Exp1_3').mean()\n",
    "print(cluster_means)\n",
    "pd"
   ]
  },
  {
   "cell_type": "markdown",
   "id": "6aba61af",
   "metadata": {},
   "source": [
    "### **Group 0**"
   ]
  },
  {
   "cell_type": "code",
   "execution_count": null,
   "id": "0b537d2d",
   "metadata": {},
   "outputs": [],
   "source": [
    "data0[data0['Clustering_KMeans_Exp1_3']==0][['Usia','Jumlah_Anak','Total_Kepemilikan_Produk','Total_Relationship_Balance']].describe(include=\"all\")"
   ]
  },
  {
   "cell_type": "code",
   "execution_count": null,
   "id": "2ece5ee6",
   "metadata": {},
   "outputs": [],
   "source": [
    "data0[data0['Clustering_KMeans_Exp1_3']==0]['Area'].value_counts(normalize=True)"
   ]
  },
  {
   "cell_type": "code",
   "execution_count": null,
   "id": "262c15af",
   "metadata": {},
   "outputs": [],
   "source": [
    "data0[data0['Clustering_KMeans_Exp1_3']==0]['Vintage'].value_counts(normalize=True)"
   ]
  },
  {
   "cell_type": "code",
   "execution_count": null,
   "id": "597f9044",
   "metadata": {},
   "outputs": [],
   "source": [
    "data0[data0['Clustering_KMeans_Exp1_3']==0]['Pendidikan'].value_counts(normalize=True)"
   ]
  },
  {
   "cell_type": "code",
   "execution_count": null,
   "id": "6aedf5a5",
   "metadata": {},
   "outputs": [],
   "source": [
    "data0[data0['Clustering_KMeans_Exp1_3']==0]['Jenis_Kelamin'].value_counts(normalize=True)"
   ]
  },
  {
   "cell_type": "markdown",
   "id": "e3b234b8",
   "metadata": {},
   "source": [
    "### **Group 1**"
   ]
  },
  {
   "cell_type": "code",
   "execution_count": null,
   "id": "a6b089c3",
   "metadata": {},
   "outputs": [],
   "source": [
    "data0[data0['Clustering_KMeans_Exp1_3']==1][['Usia','Jumlah_Anak','Total_Kepemilikan_Produk','Total_Relationship_Balance']].describe(include=\"all\")"
   ]
  },
  {
   "cell_type": "code",
   "execution_count": null,
   "id": "84d1d9d3",
   "metadata": {},
   "outputs": [],
   "source": [
    "data0[data0['Clustering_KMeans_Exp1_3']==1]['Area'].value_counts(normalize=True)"
   ]
  },
  {
   "cell_type": "code",
   "execution_count": null,
   "id": "1118cf70",
   "metadata": {},
   "outputs": [],
   "source": [
    "data0[data0['Clustering_KMeans_Exp1_3']==1]['Vintage'].value_counts(normalize=True)"
   ]
  },
  {
   "cell_type": "code",
   "execution_count": null,
   "id": "64e37651",
   "metadata": {},
   "outputs": [],
   "source": [
    "data0[data0['Clustering_KMeans_Exp1_3']==1]['Pendidikan'].value_counts(normalize=True)"
   ]
  },
  {
   "cell_type": "code",
   "execution_count": null,
   "id": "5944703f",
   "metadata": {},
   "outputs": [],
   "source": [
    "data0[data0['Clustering_KMeans_Exp1_3']==1]['Jenis_Kelamin'].value_counts(normalize=True)"
   ]
  },
  {
   "cell_type": "markdown",
   "id": "ce3d9de0",
   "metadata": {},
   "source": [
    "### **Group 2**"
   ]
  },
  {
   "cell_type": "code",
   "execution_count": null,
   "id": "ccf8a0e8",
   "metadata": {},
   "outputs": [],
   "source": [
    "data0[data0['Clustering_KMeans_Exp1_3']==2][['Usia','Jumlah_Anak','Total_Kepemilikan_Produk','Total_Relationship_Balance']].describe(include=\"all\")"
   ]
  },
  {
   "cell_type": "code",
   "execution_count": null,
   "id": "3f5865a8",
   "metadata": {},
   "outputs": [],
   "source": [
    "data0[data0['Clustering_KMeans_Exp1_3']==1]['Area'].value_counts(normalize=True)"
   ]
  },
  {
   "cell_type": "code",
   "execution_count": null,
   "id": "556a9875",
   "metadata": {},
   "outputs": [],
   "source": [
    "data0[data0['Clustering_KMeans_Exp1_3']==1]['Vintage'].value_counts(normalize=True)"
   ]
  },
  {
   "cell_type": "code",
   "execution_count": null,
   "id": "ec61f560",
   "metadata": {},
   "outputs": [],
   "source": [
    "data0[data0['Clustering_KMeans_Exp1_3']==1]['Pendidikan'].value_counts(normalize=True)"
   ]
  },
  {
   "cell_type": "code",
   "execution_count": null,
   "id": "cb2ae1b7",
   "metadata": {},
   "outputs": [],
   "source": [
    "data0[data0['Clustering_KMeans_Exp1_3']==1]['Jenis_Kelamin'].value_counts(normalize=True)"
   ]
  }
 ],
 "metadata": {
  "kernelspec": {
   "display_name": "Python 3",
   "language": "python",
   "name": "python3"
  },
  "language_info": {
   "codemirror_mode": {
    "name": "ipython",
    "version": 3
   },
   "file_extension": ".py",
   "mimetype": "text/x-python",
   "name": "python",
   "nbconvert_exporter": "python",
   "pygments_lexer": "ipython3",
   "version": "3.10.0"
  }
 },
 "nbformat": 4,
 "nbformat_minor": 5
}
